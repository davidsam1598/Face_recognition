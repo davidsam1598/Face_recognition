{
 "cells": [
  {
   "cell_type": "code",
   "execution_count": 4,
   "metadata": {},
   "outputs": [
    {
     "name": "stdout",
     "output_type": "stream",
     "text": [
      "[True] [0.34429852]\n"
     ]
    },
    {
     "data": {
      "text/plain": [
       "-1"
      ]
     },
     "execution_count": 4,
     "metadata": {},
     "output_type": "execute_result"
    }
   ],
   "source": [
    "import cv2\n",
    "import numpy as py\n",
    "import face_recognition\n",
    "\n",
    "\n",
    "imgvirat=face_recognition.load_image_file(r'C:\\Users\\Asus-2020\\Pictures\\virat.jpg')\n",
    "imgvirat=cv2.cvtColor(imgvirat,cv2.COLOR_BGR2RGB)\n",
    "imgtest=face_recognition.load_image_file(r'C:\\Users\\Asus-2020\\Pictures\\virat2.jpg')\n",
    "imgtest=cv2.cvtColor(imgtest,cv2.COLOR_BGR2RGB)\n",
    "\n",
    "faceloc=face_recognition.face_locations(imgvirat)[0]\n",
    "encodefac=face_recognition.face_encodings(imgvirat)[0]\n",
    "cv2.rectangle(imgvirat,(faceloc[3],faceloc[0]),(faceloc[1],faceloc[2]),(255,0,0),2)\n",
    "\n",
    "faceloctest=face_recognition.face_locations(imgtest)[0]\n",
    "encodetest=face_recognition.face_encodings(imgtest)[0]\n",
    "cv2.rectangle(imgtest,(faceloctest[3],faceloctest[0]),(faceloctest[1],faceloctest[2]),(255,0,0),2)\n",
    "\n",
    "result=face_recognition.compare_faces([encodefac],encodetest)\n",
    "facedis=face_recognition.face_distance([encodefac],encodetest)\n",
    "print(result,facedis)\n",
    "cv2.putText(imgtest,f'{result} {round(facedis[0],2)}',(50,50),cv2.FONT_HERSHEY_COMPLEX,1,(0,0,255),2)\n",
    "\n",
    "\n",
    "\n",
    "cv2.imshow('Virat',imgvirat)\n",
    "\n",
    "cv2.imshow('Kohli',imgtest)\n",
    "cv2.waitKey(0)"
   ]
  },
  {
   "cell_type": "code",
   "execution_count": null,
   "metadata": {},
   "outputs": [],
   "source": []
  },
  {
   "cell_type": "code",
   "execution_count": null,
   "metadata": {},
   "outputs": [],
   "source": []
  }
 ],
 "metadata": {
  "kernelspec": {
   "display_name": "Python 3",
   "language": "python",
   "name": "python3"
  },
  "language_info": {
   "codemirror_mode": {
    "name": "ipython",
    "version": 3
   },
   "file_extension": ".py",
   "mimetype": "text/x-python",
   "name": "python",
   "nbconvert_exporter": "python",
   "pygments_lexer": "ipython3",
   "version": "3.7.4"
  }
 },
 "nbformat": 4,
 "nbformat_minor": 2
}
