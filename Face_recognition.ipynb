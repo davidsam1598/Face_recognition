{
 "cells": [
  {
   "cell_type": "code",
   "execution_count": null,
   "metadata": {},
   "outputs": [
    {
     "name": "stdout",
     "output_type": "stream",
     "text": [
      "[True] [0.40053666]\n"
     ]
    }
   ],
   "source": [
    "import cv2\n",
    "import numpy as py\n",
    "import face_recognition\n",
    "\n",
    "\n",
    "img1=face_recognition.load_image_file(r'Pictures\\rohit.jpg')\n",
    "img1=cv2.cvtColor(imgvirat,cv2.COLOR_BGR2RGB)\n",
    "img2=face_recognition.load_image_file(r'Pictures\\rohittest.jpg')\n",
    "img2=cv2.cvtColor(imgtest,cv2.COLOR_BGR2RGB)\n",
    "\n",
    "faceloc=face_recognition.face_locations(img1)[0]\n",
    "encodefac=face_recognition.face_encodings(img1)[0]\n",
    "cv2.rectangle(img1,(faceloc[3],faceloc[0]),(faceloc[1],faceloc[2]),(255,0,0),2)\n",
    "\n",
    "faceloctest=face_recognition.face_locations(img2)[0]\n",
    "encodetest=face_recognition.face_encodings(img2)[0]\n",
    "cv2.rectangle(img2,(faceloctest[3],faceloctest[0]),(faceloctest[1],faceloctest[2]),(255,0,0),2)\n",
    "\n",
    "result=face_recognition.compare_faces([encodefac],encodetest)\n",
    "facedis=face_recognition.face_distance([encodefac],encodetest)\n",
    "print(result,facedis)\n",
    "cv2.putText(imgtest,f'{result} {round(facedis[0],2)}',(50,50),cv2.FONT_HERSHEY_COMPLEX,1,(0,0,255),2)\n",
    "\n",
    "\n",
    "\n",
    "cv2.imshow('Rohit',img1)\n",
    "\n",
    "cv2.imshow('Sharma',img2)\n",
    "cv2.waitKey(0)"
   ]
  },
  {
   "cell_type": "code",
   "execution_count": null,
   "metadata": {},
   "outputs": [],
   "source": []
  },
  {
   "cell_type": "code",
   "execution_count": null,
   "metadata": {},
   "outputs": [],
   "source": []
  }
 ],
 "metadata": {
  "kernelspec": {
   "display_name": "Python 3",
   "language": "python",
   "name": "python3"
  },
  "language_info": {
   "codemirror_mode": {
    "name": "ipython",
    "version": 3
   },
   "file_extension": ".py",
   "mimetype": "text/x-python",
   "name": "python",
   "nbconvert_exporter": "python",
   "pygments_lexer": "ipython3",
   "version": "3.7.4"
  }
 },
 "nbformat": 4,
 "nbformat_minor": 2
}
